{
 "cells": [
  {
   "cell_type": "markdown",
   "id": "651968c6",
   "metadata": {},
   "source": [
    "# Steam Games: Data Cleaning Notebook\n",
    "\n",
    "**Purpose:** Prepare a clean, analysis‑ready subset of the Steam Games dataset.\n",
    "\n",
    "**Outputs:** `data/steam_games_cleaned.csv`\n"
   ]
  },
  {
   "cell_type": "markdown",
   "id": "e92a0dfc",
   "metadata": {},
   "source": [
    "\n",
    "## 1. Setup & Config\n",
    "\n",
    "- Set the path to raw dataset (CSV).  \n",
    "- If file name differs, update `RAW_DATA_PATH`.  "
   ]
  },
  {
   "cell_type": "code",
   "execution_count": null,
   "id": "73e02b8d",
   "metadata": {},
   "outputs": [],
   "source": [
    "import kagglehub\n",
    "# Downloading the dataset\n",
    "# path = kagglehub.dataset_download(\"fronkongames/steam-games-dataset\")\n",
    "# print(\"Path to dataset files:\", path)"
   ]
  },
  {
   "cell_type": "code",
   "execution_count": null,
   "id": "a61427ef",
   "metadata": {},
   "outputs": [
    {
     "data": {
      "text/plain": [
       "(PosixPath('data/games_raw.csv'),\n",
       " PosixPath('data/steam_games_cleaned.csv'),\n",
       " PosixPath('data/games_fixed.csv'))"
      ]
     },
     "execution_count": 191,
     "metadata": {},
     "output_type": "execute_result"
    }
   ],
   "source": [
    "from pathlib import Path\n",
    "import pandas as pd\n",
    "import numpy as np\n",
    "\n",
    "# Configure paths \n",
    "RAW_DATA_PATH = Path(\"data/games_raw.csv\")  \n",
    "CLEAN_PATH = Path(\"../data/steam_games_cleaned.csv\")\n",
    "FIXED_DATA_PATH = Path(\"data/games_fixed.csv\") # <-- replace with your actual filename\n",
    "RAW_DATA_PATH, CLEAN_PATH, FIXED_DATA_PATH"
   ]
  },
  {
   "cell_type": "markdown",
   "id": "13e65352",
   "metadata": {},
   "source": [
    "\n",
    "## 2. Load & Inspect\n"
   ]
  },
  {
   "cell_type": "code",
   "execution_count": 194,
   "id": "c41a2f1a",
   "metadata": {},
   "outputs": [
    {
     "name": "stdout",
     "output_type": "stream",
     "text": [
      "(111452, 40)\n"
     ]
    },
    {
     "data": {
      "text/html": [
       "<div>\n",
       "<style scoped>\n",
       "    .dataframe tbody tr th:only-of-type {\n",
       "        vertical-align: middle;\n",
       "    }\n",
       "\n",
       "    .dataframe tbody tr th {\n",
       "        vertical-align: top;\n",
       "    }\n",
       "\n",
       "    .dataframe thead th {\n",
       "        text-align: right;\n",
       "    }\n",
       "</style>\n",
       "<table border=\"1\" class=\"dataframe\">\n",
       "  <thead>\n",
       "    <tr style=\"text-align: right;\">\n",
       "      <th></th>\n",
       "      <th>AppID</th>\n",
       "      <th>Name</th>\n",
       "      <th>Release date</th>\n",
       "      <th>Estimated owners</th>\n",
       "      <th>Peak CCU</th>\n",
       "      <th>Required age</th>\n",
       "      <th>Price</th>\n",
       "      <th>Discount</th>\n",
       "      <th>DLC count</th>\n",
       "      <th>About the game</th>\n",
       "      <th>...</th>\n",
       "      <th>Average playtime two weeks</th>\n",
       "      <th>Median playtime forever</th>\n",
       "      <th>Median playtime two weeks</th>\n",
       "      <th>Developers</th>\n",
       "      <th>Publishers</th>\n",
       "      <th>Categories</th>\n",
       "      <th>Genres</th>\n",
       "      <th>Tags</th>\n",
       "      <th>Screenshots</th>\n",
       "      <th>Movies</th>\n",
       "    </tr>\n",
       "  </thead>\n",
       "  <tbody>\n",
       "    <tr>\n",
       "      <th>0</th>\n",
       "      <td>20200</td>\n",
       "      <td>Galactic Bowling</td>\n",
       "      <td>Oct 21, 2008</td>\n",
       "      <td>0 - 20000</td>\n",
       "      <td>0</td>\n",
       "      <td>0</td>\n",
       "      <td>19.99</td>\n",
       "      <td>0</td>\n",
       "      <td>0</td>\n",
       "      <td>Galactic Bowling is an exaggerated and stylize...</td>\n",
       "      <td>...</td>\n",
       "      <td>0</td>\n",
       "      <td>0</td>\n",
       "      <td>0</td>\n",
       "      <td>Perpetual FX Creative</td>\n",
       "      <td>Perpetual FX Creative</td>\n",
       "      <td>Single-player,Multi-player,Steam Achievements,...</td>\n",
       "      <td>Casual,Indie,Sports</td>\n",
       "      <td>Indie,Casual,Sports,Bowling</td>\n",
       "      <td>https://cdn.akamai.steamstatic.com/steam/apps/...</td>\n",
       "      <td>http://cdn.akamai.steamstatic.com/steam/apps/2...</td>\n",
       "    </tr>\n",
       "    <tr>\n",
       "      <th>1</th>\n",
       "      <td>655370</td>\n",
       "      <td>Train Bandit</td>\n",
       "      <td>Oct 12, 2017</td>\n",
       "      <td>0 - 20000</td>\n",
       "      <td>0</td>\n",
       "      <td>0</td>\n",
       "      <td>0.99</td>\n",
       "      <td>0</td>\n",
       "      <td>0</td>\n",
       "      <td>THE LAW!! Looks to be a showdown atop a train....</td>\n",
       "      <td>...</td>\n",
       "      <td>0</td>\n",
       "      <td>0</td>\n",
       "      <td>0</td>\n",
       "      <td>Rusty Moyher</td>\n",
       "      <td>Wild Rooster</td>\n",
       "      <td>Single-player,Steam Achievements,Full controll...</td>\n",
       "      <td>Action,Indie</td>\n",
       "      <td>Indie,Action,Pixel Graphics,2D,Retro,Arcade,Sc...</td>\n",
       "      <td>https://cdn.akamai.steamstatic.com/steam/apps/...</td>\n",
       "      <td>http://cdn.akamai.steamstatic.com/steam/apps/2...</td>\n",
       "    </tr>\n",
       "    <tr>\n",
       "      <th>2</th>\n",
       "      <td>1732930</td>\n",
       "      <td>Jolt Project</td>\n",
       "      <td>Nov 17, 2021</td>\n",
       "      <td>0 - 20000</td>\n",
       "      <td>0</td>\n",
       "      <td>0</td>\n",
       "      <td>4.99</td>\n",
       "      <td>0</td>\n",
       "      <td>0</td>\n",
       "      <td>Jolt Project: The army now has a new robotics ...</td>\n",
       "      <td>...</td>\n",
       "      <td>0</td>\n",
       "      <td>0</td>\n",
       "      <td>0</td>\n",
       "      <td>Campião Games</td>\n",
       "      <td>Campião Games</td>\n",
       "      <td>Single-player</td>\n",
       "      <td>Action,Adventure,Indie,Strategy</td>\n",
       "      <td>NaN</td>\n",
       "      <td>https://cdn.akamai.steamstatic.com/steam/apps/...</td>\n",
       "      <td>http://cdn.akamai.steamstatic.com/steam/apps/2...</td>\n",
       "    </tr>\n",
       "  </tbody>\n",
       "</table>\n",
       "<p>3 rows × 40 columns</p>\n",
       "</div>"
      ],
      "text/plain": [
       "     AppID              Name  Release date Estimated owners  Peak CCU  \\\n",
       "0    20200  Galactic Bowling  Oct 21, 2008        0 - 20000         0   \n",
       "1   655370      Train Bandit  Oct 12, 2017        0 - 20000         0   \n",
       "2  1732930      Jolt Project  Nov 17, 2021        0 - 20000         0   \n",
       "\n",
       "   Required age  Price  Discount  DLC count  \\\n",
       "0             0  19.99         0          0   \n",
       "1             0   0.99         0          0   \n",
       "2             0   4.99         0          0   \n",
       "\n",
       "                                      About the game  ...  \\\n",
       "0  Galactic Bowling is an exaggerated and stylize...  ...   \n",
       "1  THE LAW!! Looks to be a showdown atop a train....  ...   \n",
       "2  Jolt Project: The army now has a new robotics ...  ...   \n",
       "\n",
       "  Average playtime two weeks Median playtime forever  \\\n",
       "0                          0                       0   \n",
       "1                          0                       0   \n",
       "2                          0                       0   \n",
       "\n",
       "  Median playtime two weeks             Developers             Publishers  \\\n",
       "0                         0  Perpetual FX Creative  Perpetual FX Creative   \n",
       "1                         0           Rusty Moyher           Wild Rooster   \n",
       "2                         0          Campião Games          Campião Games   \n",
       "\n",
       "                                          Categories  \\\n",
       "0  Single-player,Multi-player,Steam Achievements,...   \n",
       "1  Single-player,Steam Achievements,Full controll...   \n",
       "2                                      Single-player   \n",
       "\n",
       "                            Genres  \\\n",
       "0              Casual,Indie,Sports   \n",
       "1                     Action,Indie   \n",
       "2  Action,Adventure,Indie,Strategy   \n",
       "\n",
       "                                                Tags  \\\n",
       "0                        Indie,Casual,Sports,Bowling   \n",
       "1  Indie,Action,Pixel Graphics,2D,Retro,Arcade,Sc...   \n",
       "2                                                NaN   \n",
       "\n",
       "                                         Screenshots  \\\n",
       "0  https://cdn.akamai.steamstatic.com/steam/apps/...   \n",
       "1  https://cdn.akamai.steamstatic.com/steam/apps/...   \n",
       "2  https://cdn.akamai.steamstatic.com/steam/apps/...   \n",
       "\n",
       "                                              Movies  \n",
       "0  http://cdn.akamai.steamstatic.com/steam/apps/2...  \n",
       "1  http://cdn.akamai.steamstatic.com/steam/apps/2...  \n",
       "2  http://cdn.akamai.steamstatic.com/steam/apps/2...  \n",
       "\n",
       "[3 rows x 40 columns]"
      ]
     },
     "execution_count": 194,
     "metadata": {},
     "output_type": "execute_result"
    }
   ],
   "source": [
    "# Load the dataset \n",
    "if not RAW_DATA_PATH.exists():\n",
    "    raise FileNotFoundError(f\"Raw dataset not found at {RAW_DATA_PATH}\")\n",
    "\n",
    "df_raw = pd.read_csv(FIXED_DATA_PATH)\n",
    "print(df_raw.shape)\n",
    "df_raw.head(3)"
   ]
  },
  {
   "cell_type": "code",
   "execution_count": null,
   "id": "a382ae15",
   "metadata": {},
   "outputs": [],
   "source": [
    "df_raw.info()"
   ]
  },
  {
   "cell_type": "code",
   "execution_count": null,
   "id": "79b7c64a",
   "metadata": {},
   "outputs": [],
   "source": [
    "#before cleaning \n",
    "df_raw.describe()"
   ]
  },
  {
   "cell_type": "code",
   "execution_count": null,
   "id": "cf053a2f",
   "metadata": {},
   "outputs": [],
   "source": [
    "df_raw.nunique() #check unique values in each column"
   ]
  },
  {
   "cell_type": "code",
   "execution_count": 196,
   "id": "d6eac966",
   "metadata": {},
   "outputs": [
    {
     "name": "stdout",
     "output_type": "stream",
     "text": [
      "['AppID', 'Name', 'Release date', 'Estimated owners', 'Peak CCU', 'Required age', 'Price', 'Discount', 'DLC count', 'About the game', 'Supported languages', 'Full audio languages', 'Reviews', 'Header image', 'Website', 'Support url', 'Support email', 'Windows', 'Mac', 'Linux', 'Metacritic score', 'Metacritic url', 'User score', 'Positive', 'Negative', 'Score rank', 'Achievements', 'Recommendations', 'Notes', 'Average playtime forever', 'Average playtime two weeks', 'Median playtime forever', 'Median playtime two weeks', 'Developers', 'Publishers', 'Categories', 'Genres', 'Tags', 'Screenshots', 'Movies']\n"
     ]
    },
    {
     "data": {
      "text/html": [
       "<div>\n",
       "<style scoped>\n",
       "    .dataframe tbody tr th:only-of-type {\n",
       "        vertical-align: middle;\n",
       "    }\n",
       "\n",
       "    .dataframe tbody tr th {\n",
       "        vertical-align: top;\n",
       "    }\n",
       "\n",
       "    .dataframe thead th {\n",
       "        text-align: right;\n",
       "    }\n",
       "</style>\n",
       "<table border=\"1\" class=\"dataframe\">\n",
       "  <thead>\n",
       "    <tr style=\"text-align: right;\">\n",
       "      <th></th>\n",
       "      <th>AppID</th>\n",
       "      <th>Name</th>\n",
       "      <th>Release date</th>\n",
       "      <th>Estimated owners</th>\n",
       "      <th>Peak CCU</th>\n",
       "      <th>Required age</th>\n",
       "      <th>Price</th>\n",
       "      <th>Discount</th>\n",
       "      <th>DLC count</th>\n",
       "      <th>About the game</th>\n",
       "    </tr>\n",
       "  </thead>\n",
       "  <tbody>\n",
       "    <tr>\n",
       "      <th>0</th>\n",
       "      <td>20200</td>\n",
       "      <td>Galactic Bowling</td>\n",
       "      <td>Oct 21, 2008</td>\n",
       "      <td>0 - 20000</td>\n",
       "      <td>0</td>\n",
       "      <td>0</td>\n",
       "      <td>19.99</td>\n",
       "      <td>0</td>\n",
       "      <td>0</td>\n",
       "      <td>Galactic Bowling is an exaggerated and stylize...</td>\n",
       "    </tr>\n",
       "    <tr>\n",
       "      <th>1</th>\n",
       "      <td>655370</td>\n",
       "      <td>Train Bandit</td>\n",
       "      <td>Oct 12, 2017</td>\n",
       "      <td>0 - 20000</td>\n",
       "      <td>0</td>\n",
       "      <td>0</td>\n",
       "      <td>0.99</td>\n",
       "      <td>0</td>\n",
       "      <td>0</td>\n",
       "      <td>THE LAW!! Looks to be a showdown atop a train....</td>\n",
       "    </tr>\n",
       "    <tr>\n",
       "      <th>2</th>\n",
       "      <td>1732930</td>\n",
       "      <td>Jolt Project</td>\n",
       "      <td>Nov 17, 2021</td>\n",
       "      <td>0 - 20000</td>\n",
       "      <td>0</td>\n",
       "      <td>0</td>\n",
       "      <td>4.99</td>\n",
       "      <td>0</td>\n",
       "      <td>0</td>\n",
       "      <td>Jolt Project: The army now has a new robotics ...</td>\n",
       "    </tr>\n",
       "  </tbody>\n",
       "</table>\n",
       "</div>"
      ],
      "text/plain": [
       "     AppID              Name  Release date Estimated owners  Peak CCU  \\\n",
       "0    20200  Galactic Bowling  Oct 21, 2008        0 - 20000         0   \n",
       "1   655370      Train Bandit  Oct 12, 2017        0 - 20000         0   \n",
       "2  1732930      Jolt Project  Nov 17, 2021        0 - 20000         0   \n",
       "\n",
       "   Required age  Price  Discount  DLC count  \\\n",
       "0             0  19.99         0          0   \n",
       "1             0   0.99         0          0   \n",
       "2             0   4.99         0          0   \n",
       "\n",
       "                                      About the game  \n",
       "0  Galactic Bowling is an exaggerated and stylize...  \n",
       "1  THE LAW!! Looks to be a showdown atop a train....  \n",
       "2  Jolt Project: The army now has a new robotics ...  "
      ]
     },
     "execution_count": 196,
     "metadata": {},
     "output_type": "execute_result"
    }
   ],
   "source": [
    "print(df_raw.columns.tolist())\n",
    "\n",
    "df_raw[[\"AppID\",\"Name\",\"Release date\",\"Estimated owners\",\"Peak CCU\",\"Required age\",\"Price\",\"Discount\",\"DLC count\",\"About the game\"]].head(3)"
   ]
  },
  {
   "cell_type": "markdown",
   "id": "527de301",
   "metadata": {},
   "source": [
    "# Drop NLP specific/ unwanted columns\n",
    "    \"Header image\", \"Website\", \"Support url\", \"Support email\",\n",
    "    \"Metacritic url\", \"Screenshots\", \"Movies\",\n",
    "    \"Score rank\", \"Reviews\", \"Notes\", \"Supported languages \", \" Full audio languages\"\n",
    "\n",
    "- Change numerical nans to 0\n",
    "- Change categorical nans to 'Unknown'\n",
    "- Drop duplicate AppIDs"
   ]
  },
  {
   "cell_type": "code",
   "execution_count": null,
   "id": "35d44444",
   "metadata": {},
   "outputs": [
    {
     "name": "stderr",
     "output_type": "stream",
     "text": [
      "/tmp/ipykernel_15138/1343402780.py:17: UserWarning: The argument 'infer_datetime_format' is deprecated and will be removed in a future version. A strict version of it is now the default, see https://pandas.pydata.org/pdeps/0004-consistent-to-datetime-parsing.html. You can safely remove this argument.\n",
      "  df[\"Release year\"] = pd.to_datetime(df[\"Release date\"], errors=\"coerce\", infer_datetime_format=True).dt.year\n"
     ]
    },
    {
     "name": "stdout",
     "output_type": "stream",
     "text": [
      "<class 'pandas.core.frame.DataFrame'>\n",
      "Index: 111315 entries, 0 to 111451\n",
      "Data columns (total 28 columns):\n",
      " #   Column                      Non-Null Count   Dtype  \n",
      "---  ------                      --------------   -----  \n",
      " 0   AppID                       111315 non-null  int64  \n",
      " 1   Name                        111315 non-null  object \n",
      " 2   Estimated owners            111315 non-null  object \n",
      " 3   Peak CCU                    111315 non-null  int64  \n",
      " 4   Required age                111315 non-null  int64  \n",
      " 5   Price                       111315 non-null  float64\n",
      " 6   Discount                    111315 non-null  int64  \n",
      " 7   DLC count                   111315 non-null  int64  \n",
      " 8   About the game              104838 non-null  object \n",
      " 9   Windows                     111315 non-null  bool   \n",
      " 10  Mac                         111315 non-null  bool   \n",
      " 11  Linux                       111315 non-null  bool   \n",
      " 12  Metacritic score            111315 non-null  int64  \n",
      " 13  User score                  111315 non-null  int64  \n",
      " 14  Positive                    111315 non-null  int64  \n",
      " 15  Negative                    111315 non-null  int64  \n",
      " 16  Achievements                111315 non-null  int64  \n",
      " 17  Recommendations             111315 non-null  int64  \n",
      " 18  Average playtime forever    111315 non-null  int64  \n",
      " 19  Average playtime two weeks  111315 non-null  int64  \n",
      " 20  Median playtime forever     111315 non-null  int64  \n",
      " 21  Median playtime two weeks   111315 non-null  int64  \n",
      " 22  Developers                  111315 non-null  object \n",
      " 23  Publishers                  111315 non-null  object \n",
      " 24  Categories                  111315 non-null  object \n",
      " 25  Genres                      111315 non-null  object \n",
      " 26  Tags                        111315 non-null  object \n",
      " 27  Release year                111315 non-null  int64  \n",
      "dtypes: bool(3), float64(1), int64(16), object(8)\n",
      "memory usage: 22.4+ MB\n"
     ]
    }
   ],
   "source": [
    "# Change numerical nans to 0\n",
    "# Change categorical nans to 'Unknown'\n",
    "# Drop duplicate AppIDs\n",
    "\n",
    "\n",
    "## Drop irrelevant / sparse columns\n",
    "drop_cols = [ \"Supported languages\", \"Full audio languages\" ,\"Reviews\", \"Release date\", \n",
    "    \"Header image\", \"Website\", \"Support url\", \"Support email\",\n",
    "    \"Metacritic url\", \"Notes\",\"Developers \", \"Screenshots\", \"Movies\", \"Score rank\" #NLP specific\n",
    "]\n",
    "\n",
    "# drop_cols =[]\n",
    "\n",
    "df = df_raw.copy()\n",
    "\n",
    "# Parse release year from release date\n",
    "df[\"Release year\"] = pd.to_datetime(df[\"Release date\"], errors=\"coerce\", infer_datetime_format=True).dt.year\n",
    "\n",
    "df.update(df)\n",
    "\n",
    "df = df.drop(columns=drop_cols, errors=\"ignore\")\n",
    "\n",
    "# Handle nulls\n",
    "# Drop rows missing critical identifiers\n",
    "df = df.dropna(subset=[\"AppID\", \"Name\", \"Release year\", \"Price\"])\n",
    "\n",
    "df['Release year']= df[\"Release year\"].astype(int)\n",
    "\n",
    "# Fill numeric NaNs with 0 \n",
    "num_fill_zero = [\"Achievements\", \"Recommendations\", \n",
    "                 \"Average playtime forever\", \"Median playtime forever\"]\n",
    "for col in num_fill_zero:\n",
    "    if col in df.columns:\n",
    "        df[col] = df[col].fillna(0)\n",
    "\n",
    "# Fill categorical NaNs with 'Unknown'\n",
    "cat_fill_unknown = [\"Genres\", \"Categories\", \"Tags\", \"Developers\", \"Publishers\"]\n",
    "for col in cat_fill_unknown:\n",
    "    if col in df.columns:\n",
    "        df[col] = df[col].fillna(\"Unknown\")\n",
    "\n",
    "df = df.drop_duplicates(subset=[\"AppID\"])\n",
    "df.info()"
   ]
  },
  {
   "cell_type": "code",
   "execution_count": 198,
   "id": "f26001b0",
   "metadata": {},
   "outputs": [
    {
     "data": {
      "text/plain": [
       "AppID                              0\n",
       "Name                               6\n",
       "Release date                       0\n",
       "Estimated owners                   0\n",
       "Peak CCU                           0\n",
       "Required age                       0\n",
       "Price                              0\n",
       "Discount                           0\n",
       "DLC count                          0\n",
       "About the game                  6483\n",
       "Supported languages                0\n",
       "Full audio languages               0\n",
       "Reviews                       100828\n",
       "Header image                       0\n",
       "Website                        64994\n",
       "Support url                    60693\n",
       "Support email                  19025\n",
       "Windows                            0\n",
       "Mac                                0\n",
       "Linux                              0\n",
       "Metacritic score                   0\n",
       "Metacritic url                107447\n",
       "User score                         0\n",
       "Positive                           0\n",
       "Negative                           0\n",
       "Score rank                    111408\n",
       "Achievements                       0\n",
       "Recommendations                    0\n",
       "Notes                          93003\n",
       "Average playtime forever           0\n",
       "Average playtime two weeks         0\n",
       "Median playtime forever            0\n",
       "Median playtime two weeks          0\n",
       "Developers                      6475\n",
       "Publishers                      6778\n",
       "Categories                      7566\n",
       "Genres                          6440\n",
       "Tags                           37423\n",
       "Screenshots                     4192\n",
       "Movies                          9620\n",
       "dtype: int64"
      ]
     },
     "execution_count": 198,
     "metadata": {},
     "output_type": "execute_result"
    }
   ],
   "source": [
    "missing_values_count = df_raw.isnull().sum()\n",
    "missing_values_count[0:40]  # Display counts of missing values for the first 40 columns"
   ]
  },
  {
   "cell_type": "code",
   "execution_count": 199,
   "id": "ab7092c1",
   "metadata": {},
   "outputs": [
    {
     "name": "stdout",
     "output_type": "stream",
     "text": [
      "4458080\n",
      "14.40936456950077\n"
     ]
    }
   ],
   "source": [
    "total_cells = np.prod(df_raw.shape)\n",
    "print(total_cells)\n",
    "total_missing = missing_values_count.sum()\n",
    "total_missing\n",
    "# percent of data that is missing\n",
    "percent_missing = (total_missing/total_cells) * 100\n",
    "print(percent_missing)"
   ]
  },
  {
   "cell_type": "code",
   "execution_count": 200,
   "id": "92aa6f5d",
   "metadata": {},
   "outputs": [
    {
     "data": {
      "text/plain": [
       "AppID                            0\n",
       "Name                             0\n",
       "Estimated owners                 0\n",
       "Peak CCU                         0\n",
       "Required age                     0\n",
       "Price                            0\n",
       "Discount                         0\n",
       "DLC count                        0\n",
       "About the game                6477\n",
       "Windows                          0\n",
       "Mac                              0\n",
       "Linux                            0\n",
       "Metacritic score                 0\n",
       "User score                       0\n",
       "Positive                         0\n",
       "Negative                         0\n",
       "Achievements                     0\n",
       "Recommendations                  0\n",
       "Average playtime forever         0\n",
       "Average playtime two weeks       0\n",
       "Median playtime forever          0\n",
       "Median playtime two weeks        0\n",
       "Developers                       0\n",
       "Publishers                       0\n",
       "Categories                       0\n",
       "Genres                           0\n",
       "Tags                             0\n",
       "Release year                     0\n",
       "dtype: int64"
      ]
     },
     "execution_count": 200,
     "metadata": {},
     "output_type": "execute_result"
    }
   ],
   "source": [
    "df_copy = df.copy()\n",
    "missing_values_count1 = df_copy.isnull().sum()\n",
    "missing_values_count1[0:40]  # Display counts of missing values for the first 40 columns"
   ]
  },
  {
   "cell_type": "code",
   "execution_count": 201,
   "id": "4af110a3",
   "metadata": {},
   "outputs": [
    {
     "name": "stdout",
     "output_type": "stream",
     "text": [
      "Cleaned data saved to data/steam_games_cleaned.csv\n"
     ]
    }
   ],
   "source": [
    "#save cleaned data\n",
    "df.to_csv(CLEAN_PATH, index=False)\n",
    "print(f\"Cleaned data saved to {CLEAN_PATH}\")"
   ]
  },
  {
   "cell_type": "code",
   "execution_count": 202,
   "id": "90b92f2d",
   "metadata": {},
   "outputs": [
    {
     "name": "stdout",
     "output_type": "stream",
     "text": [
      "3116820\n",
      "0.20780795811115174\n"
     ]
    }
   ],
   "source": [
    "\n",
    "total_cells1 = np.prod(df_copy.shape)\n",
    "print(total_cells1)\n",
    "total_missing1 = missing_values_count1.sum()\n",
    "# percent of data that is missing\n",
    "percent_missing = (total_missing1/total_cells1) * 100\n",
    "print(percent_missing)"
   ]
  },
  {
   "cell_type": "code",
   "execution_count": null,
   "id": "76c4d015",
   "metadata": {},
   "outputs": [],
   "source": [
    "#print first 100 rows of appid\n",
    "print(df.iloc[100:210])\n",
    "df['Name'].head(100)"
   ]
  },
  {
   "cell_type": "code",
   "execution_count": null,
   "id": "5d98bbdd",
   "metadata": {},
   "outputs": [],
   "source": [
    "game_opinion= df[[\"Name\",'Release year', 'Estimated owners', 'Required age','Price', \"Recommendations\",\"User score\",\"Positive\",\"Negative\",\"Achievements\"]]\n",
    "game_opinion.head(200)"
   ]
  },
  {
   "cell_type": "code",
   "execution_count": null,
   "id": "43a84670",
   "metadata": {},
   "outputs": [],
   "source": [
    "# Check ranges and summary stats of numeric columns\n",
    "num_cols = df.select_dtypes(include=[np.number]).columns\n",
    "summary = df[num_cols].describe().T\n",
    "summary[\"num_missing\"] = df[num_cols].isna().sum()\n",
    "summary[\"num_negatives\"] = (df[num_cols] < 0).sum()\n",
    "summary[\"num_zeros\"] = (df[num_cols] == 0).sum()\n",
    "summary"
   ]
  },
  {
   "cell_type": "code",
   "execution_count": 203,
   "id": "7018bc14",
   "metadata": {},
   "outputs": [
    {
     "name": "stdout",
     "output_type": "stream",
     "text": [
      "(111315, 28)\n"
     ]
    },
    {
     "data": {
      "text/plain": [
       "About the game      6477\n",
       "AppID                  0\n",
       "Estimated owners       0\n",
       "Name                   0\n",
       "Peak CCU               0\n",
       "Required age           0\n",
       "Discount               0\n",
       "Price                  0\n",
       "DLC count              0\n",
       "Windows                0\n",
       "dtype: int64"
      ]
     },
     "execution_count": 203,
     "metadata": {},
     "output_type": "execute_result"
    }
   ],
   "source": [
    "print(df.shape)\n",
    "df[[\"AppID\",\"Name\",\"Release year\",\"Price\"]].head()\n",
    "df.isna().sum().sort_values(ascending=False).head(10)"
   ]
  },
  {
   "cell_type": "code",
   "execution_count": null,
   "id": "966652a1",
   "metadata": {},
   "outputs": [],
   "source": [
    "# display(df_raw.head(3))\n",
    "# Candidate keys\n",
    "for key in [[\"AppID\"], [\"Name\"], [\"Publishers\"], [\"Developers\"]]:\n",
    "    if all(c in df_copy.columns for c in key):\n",
    "        dup = df_copy.duplicated(subset=key).sum()\n",
    "        print(f\"Duplicates on {key}: {dup}\")"
   ]
  },
  {
   "cell_type": "markdown",
   "id": "11496b65",
   "metadata": {},
   "source": [
    "\n",
    "## 3. Notes for README.md\n",
    "\n",
    "- **Source:** Steam games dataset (Kaggle/Steam API).   \n",
    "- **Cleaning decisions:**   \n",
    "  - Parsed `release_year` from `release_date` (dropped rows missing critical fields).  \n",
    "  - Removed duplicates by `AppID` and the NaN values  \n",
    "- **Output:** `data/steam_games_cleaned.csv`  \n",
    "- EDA-ready columns include `Price`, `Positive`, `Negative`, `Genres`, `Release year`.\n"
   ]
  }
 ],
 "metadata": {
  "kernelspec": {
   "display_name": "torchlearn",
   "language": "python",
   "name": "python3"
  },
  "language_info": {
   "codemirror_mode": {
    "name": "ipython",
    "version": 3
   },
   "file_extension": ".py",
   "mimetype": "text/x-python",
   "name": "python",
   "nbconvert_exporter": "python",
   "pygments_lexer": "ipython3",
   "version": "3.11.13"
  }
 },
 "nbformat": 4,
 "nbformat_minor": 5
}
